{
  "cells": [
    {
      "cell_type": "markdown",
      "metadata": {
        "id": "view-in-github",
        "colab_type": "text"
      },
      "source": [
        "<a href=\"https://colab.research.google.com/github/VardhanYadav/Cleanest-City-Prediction-Model/blob/main/Clean_City_oneDNN.ipynb\" target=\"_parent\"><img src=\"https://colab.research.google.com/assets/colab-badge.svg\" alt=\"Open In Colab\"/></a>"
      ]
    },
    {
      "cell_type": "code",
      "execution_count": 1,
      "id": "b8231a7d-0737-49b2-a9df-f6e6022db0de",
      "metadata": {
        "colab": {
          "base_uri": "https://localhost:8080/"
        },
        "id": "b8231a7d-0737-49b2-a9df-f6e6022db0de",
        "outputId": "918f0e81-3d0b-4c5b-de1f-6ee77681f889"
      },
      "outputs": [
        {
          "output_type": "stream",
          "name": "stdout",
          "text": [
            "Collecting intel-tensorflow\n",
            "  Downloading intel_tensorflow-2.14.0-cp310-cp310-manylinux_2_17_x86_64.manylinux2014_x86_64.whl.metadata (4.1 kB)\n",
            "Requirement already satisfied: absl-py>=1.0.0 in /usr/local/lib/python3.10/dist-packages (from intel-tensorflow) (1.4.0)\n",
            "Requirement already satisfied: astunparse>=1.6.0 in /usr/local/lib/python3.10/dist-packages (from intel-tensorflow) (1.6.3)\n",
            "Requirement already satisfied: flatbuffers>=23.5.26 in /usr/local/lib/python3.10/dist-packages (from intel-tensorflow) (24.3.25)\n",
            "Requirement already satisfied: gast!=0.5.0,!=0.5.1,!=0.5.2,>=0.2.1 in /usr/local/lib/python3.10/dist-packages (from intel-tensorflow) (0.6.0)\n",
            "Requirement already satisfied: google-pasta>=0.1.1 in /usr/local/lib/python3.10/dist-packages (from intel-tensorflow) (0.2.0)\n",
            "Requirement already satisfied: h5py>=2.9.0 in /usr/local/lib/python3.10/dist-packages (from intel-tensorflow) (3.11.0)\n",
            "Requirement already satisfied: libclang>=13.0.0 in /usr/local/lib/python3.10/dist-packages (from intel-tensorflow) (18.1.1)\n",
            "Collecting ml-dtypes==0.2.0 (from intel-tensorflow)\n",
            "  Downloading ml_dtypes-0.2.0-cp310-cp310-manylinux_2_17_x86_64.manylinux2014_x86_64.whl.metadata (20 kB)\n",
            "Requirement already satisfied: numpy>=1.23.5 in /usr/local/lib/python3.10/dist-packages (from intel-tensorflow) (1.26.4)\n",
            "Requirement already satisfied: opt-einsum>=2.3.2 in /usr/local/lib/python3.10/dist-packages (from intel-tensorflow) (3.4.0)\n",
            "Requirement already satisfied: packaging in /usr/local/lib/python3.10/dist-packages (from intel-tensorflow) (24.1)\n",
            "Requirement already satisfied: protobuf!=4.21.0,!=4.21.1,!=4.21.2,!=4.21.3,!=4.21.4,!=4.21.5,<5.0.0dev,>=3.20.3 in /usr/local/lib/python3.10/dist-packages (from intel-tensorflow) (3.20.3)\n",
            "Requirement already satisfied: setuptools in /usr/local/lib/python3.10/dist-packages (from intel-tensorflow) (71.0.4)\n",
            "Requirement already satisfied: six>=1.12.0 in /usr/local/lib/python3.10/dist-packages (from intel-tensorflow) (1.16.0)\n",
            "Requirement already satisfied: termcolor>=1.1.0 in /usr/local/lib/python3.10/dist-packages (from intel-tensorflow) (2.4.0)\n",
            "Requirement already satisfied: typing-extensions>=3.6.6 in /usr/local/lib/python3.10/dist-packages (from intel-tensorflow) (4.12.2)\n",
            "Collecting wrapt<1.15,>=1.11.0 (from intel-tensorflow)\n",
            "  Downloading wrapt-1.14.1-cp310-cp310-manylinux_2_5_x86_64.manylinux1_x86_64.manylinux_2_17_x86_64.manylinux2014_x86_64.whl.metadata (6.7 kB)\n",
            "Requirement already satisfied: tensorflow-io-gcs-filesystem>=0.23.1 in /usr/local/lib/python3.10/dist-packages (from intel-tensorflow) (0.37.1)\n",
            "Requirement already satisfied: grpcio<2.0,>=1.24.3 in /usr/local/lib/python3.10/dist-packages (from intel-tensorflow) (1.64.1)\n",
            "Collecting tensorboard<2.15,>=2.14 (from intel-tensorflow)\n",
            "  Downloading tensorboard-2.14.1-py3-none-any.whl.metadata (1.7 kB)\n",
            "Collecting tensorflow-estimator<2.15,>=2.14.0 (from intel-tensorflow)\n",
            "  Downloading tensorflow_estimator-2.14.0-py2.py3-none-any.whl.metadata (1.3 kB)\n",
            "Collecting keras<2.15,>=2.14.0 (from intel-tensorflow)\n",
            "  Downloading keras-2.14.0-py3-none-any.whl.metadata (2.4 kB)\n",
            "Requirement already satisfied: wheel<1.0,>=0.23.0 in /usr/local/lib/python3.10/dist-packages (from astunparse>=1.6.0->intel-tensorflow) (0.44.0)\n",
            "Requirement already satisfied: google-auth<3,>=1.6.3 in /usr/local/lib/python3.10/dist-packages (from tensorboard<2.15,>=2.14->intel-tensorflow) (2.27.0)\n",
            "Collecting google-auth-oauthlib<1.1,>=0.5 (from tensorboard<2.15,>=2.14->intel-tensorflow)\n",
            "  Downloading google_auth_oauthlib-1.0.0-py2.py3-none-any.whl.metadata (2.7 kB)\n",
            "Requirement already satisfied: markdown>=2.6.8 in /usr/local/lib/python3.10/dist-packages (from tensorboard<2.15,>=2.14->intel-tensorflow) (3.7)\n",
            "Requirement already satisfied: requests<3,>=2.21.0 in /usr/local/lib/python3.10/dist-packages (from tensorboard<2.15,>=2.14->intel-tensorflow) (2.32.3)\n",
            "Requirement already satisfied: tensorboard-data-server<0.8.0,>=0.7.0 in /usr/local/lib/python3.10/dist-packages (from tensorboard<2.15,>=2.14->intel-tensorflow) (0.7.2)\n",
            "Requirement already satisfied: werkzeug>=1.0.1 in /usr/local/lib/python3.10/dist-packages (from tensorboard<2.15,>=2.14->intel-tensorflow) (3.0.4)\n",
            "Requirement already satisfied: cachetools<6.0,>=2.0.0 in /usr/local/lib/python3.10/dist-packages (from google-auth<3,>=1.6.3->tensorboard<2.15,>=2.14->intel-tensorflow) (5.5.0)\n",
            "Requirement already satisfied: pyasn1-modules>=0.2.1 in /usr/local/lib/python3.10/dist-packages (from google-auth<3,>=1.6.3->tensorboard<2.15,>=2.14->intel-tensorflow) (0.4.1)\n",
            "Requirement already satisfied: rsa<5,>=3.1.4 in /usr/local/lib/python3.10/dist-packages (from google-auth<3,>=1.6.3->tensorboard<2.15,>=2.14->intel-tensorflow) (4.9)\n",
            "Requirement already satisfied: requests-oauthlib>=0.7.0 in /usr/local/lib/python3.10/dist-packages (from google-auth-oauthlib<1.1,>=0.5->tensorboard<2.15,>=2.14->intel-tensorflow) (1.3.1)\n",
            "Requirement already satisfied: charset-normalizer<4,>=2 in /usr/local/lib/python3.10/dist-packages (from requests<3,>=2.21.0->tensorboard<2.15,>=2.14->intel-tensorflow) (3.3.2)\n",
            "Requirement already satisfied: idna<4,>=2.5 in /usr/local/lib/python3.10/dist-packages (from requests<3,>=2.21.0->tensorboard<2.15,>=2.14->intel-tensorflow) (3.10)\n",
            "Requirement already satisfied: urllib3<3,>=1.21.1 in /usr/local/lib/python3.10/dist-packages (from requests<3,>=2.21.0->tensorboard<2.15,>=2.14->intel-tensorflow) (2.2.3)\n",
            "Requirement already satisfied: certifi>=2017.4.17 in /usr/local/lib/python3.10/dist-packages (from requests<3,>=2.21.0->tensorboard<2.15,>=2.14->intel-tensorflow) (2024.8.30)\n",
            "Requirement already satisfied: MarkupSafe>=2.1.1 in /usr/local/lib/python3.10/dist-packages (from werkzeug>=1.0.1->tensorboard<2.15,>=2.14->intel-tensorflow) (2.1.5)\n",
            "Requirement already satisfied: pyasn1<0.7.0,>=0.4.6 in /usr/local/lib/python3.10/dist-packages (from pyasn1-modules>=0.2.1->google-auth<3,>=1.6.3->tensorboard<2.15,>=2.14->intel-tensorflow) (0.6.1)\n",
            "Requirement already satisfied: oauthlib>=3.0.0 in /usr/local/lib/python3.10/dist-packages (from requests-oauthlib>=0.7.0->google-auth-oauthlib<1.1,>=0.5->tensorboard<2.15,>=2.14->intel-tensorflow) (3.2.2)\n",
            "Downloading intel_tensorflow-2.14.0-cp310-cp310-manylinux_2_17_x86_64.manylinux2014_x86_64.whl (249.9 MB)\n",
            "\u001b[2K   \u001b[90m━━━━━━━━━━━━━━━━━━━━━━━━━━━━━━━━━━━━━━━━\u001b[0m \u001b[32m249.9/249.9 MB\u001b[0m \u001b[31m3.8 MB/s\u001b[0m eta \u001b[36m0:00:00\u001b[0m\n",
            "\u001b[?25hDownloading ml_dtypes-0.2.0-cp310-cp310-manylinux_2_17_x86_64.manylinux2014_x86_64.whl (1.0 MB)\n",
            "\u001b[2K   \u001b[90m━━━━━━━━━━━━━━━━━━━━━━━━━━━━━━━━━━━━━━━━\u001b[0m \u001b[32m1.0/1.0 MB\u001b[0m \u001b[31m18.1 MB/s\u001b[0m eta \u001b[36m0:00:00\u001b[0m\n",
            "\u001b[?25hDownloading keras-2.14.0-py3-none-any.whl (1.7 MB)\n",
            "\u001b[2K   \u001b[90m━━━━━━━━━━━━━━━━━━━━━━━━━━━━━━━━━━━━━━━━\u001b[0m \u001b[32m1.7/1.7 MB\u001b[0m \u001b[31m29.4 MB/s\u001b[0m eta \u001b[36m0:00:00\u001b[0m\n",
            "\u001b[?25hDownloading tensorboard-2.14.1-py3-none-any.whl (5.5 MB)\n",
            "\u001b[2K   \u001b[90m━━━━━━━━━━━━━━━━━━━━━━━━━━━━━━━━━━━━━━━━\u001b[0m \u001b[32m5.5/5.5 MB\u001b[0m \u001b[31m19.9 MB/s\u001b[0m eta \u001b[36m0:00:00\u001b[0m\n",
            "\u001b[?25hDownloading tensorflow_estimator-2.14.0-py2.py3-none-any.whl (440 kB)\n",
            "\u001b[2K   \u001b[90m━━━━━━━━━━━━━━━━━━━━━━━━━━━━━━━━━━━━━━━━\u001b[0m \u001b[32m440.7/440.7 kB\u001b[0m \u001b[31m11.3 MB/s\u001b[0m eta \u001b[36m0:00:00\u001b[0m\n",
            "\u001b[?25hDownloading wrapt-1.14.1-cp310-cp310-manylinux_2_5_x86_64.manylinux1_x86_64.manylinux_2_17_x86_64.manylinux2014_x86_64.whl (77 kB)\n",
            "\u001b[2K   \u001b[90m━━━━━━━━━━━━━━━━━━━━━━━━━━━━━━━━━━━━━━━━\u001b[0m \u001b[32m77.9/77.9 kB\u001b[0m \u001b[31m3.1 MB/s\u001b[0m eta \u001b[36m0:00:00\u001b[0m\n",
            "\u001b[?25hDownloading google_auth_oauthlib-1.0.0-py2.py3-none-any.whl (18 kB)\n",
            "Installing collected packages: wrapt, tensorflow-estimator, ml-dtypes, keras, google-auth-oauthlib, tensorboard, intel-tensorflow\n",
            "  Attempting uninstall: wrapt\n",
            "    Found existing installation: wrapt 1.16.0\n",
            "    Uninstalling wrapt-1.16.0:\n",
            "      Successfully uninstalled wrapt-1.16.0\n",
            "  Attempting uninstall: ml-dtypes\n",
            "    Found existing installation: ml-dtypes 0.4.1\n",
            "    Uninstalling ml-dtypes-0.4.1:\n",
            "      Successfully uninstalled ml-dtypes-0.4.1\n",
            "  Attempting uninstall: keras\n",
            "    Found existing installation: keras 3.4.1\n",
            "    Uninstalling keras-3.4.1:\n",
            "      Successfully uninstalled keras-3.4.1\n",
            "  Attempting uninstall: google-auth-oauthlib\n",
            "    Found existing installation: google-auth-oauthlib 1.2.1\n",
            "    Uninstalling google-auth-oauthlib-1.2.1:\n",
            "      Successfully uninstalled google-auth-oauthlib-1.2.1\n",
            "  Attempting uninstall: tensorboard\n",
            "    Found existing installation: tensorboard 2.17.0\n",
            "    Uninstalling tensorboard-2.17.0:\n",
            "      Successfully uninstalled tensorboard-2.17.0\n",
            "\u001b[31mERROR: pip's dependency resolver does not currently take into account all the packages that are installed. This behaviour is the source of the following dependency conflicts.\n",
            "tensorflow 2.17.0 requires keras>=3.2.0, but you have keras 2.14.0 which is incompatible.\n",
            "tensorflow 2.17.0 requires ml-dtypes<0.5.0,>=0.3.1, but you have ml-dtypes 0.2.0 which is incompatible.\n",
            "tensorflow 2.17.0 requires tensorboard<2.18,>=2.17, but you have tensorboard 2.14.1 which is incompatible.\n",
            "tensorstore 0.1.66 requires ml-dtypes>=0.3.1, but you have ml-dtypes 0.2.0 which is incompatible.\u001b[0m\u001b[31m\n",
            "\u001b[0mSuccessfully installed google-auth-oauthlib-1.0.0 intel-tensorflow-2.14.0 keras-2.14.0 ml-dtypes-0.2.0 tensorboard-2.14.1 tensorflow-estimator-2.14.0 wrapt-1.14.1\n"
          ]
        }
      ],
      "source": [
        "pip install intel-tensorflow\n"
      ]
    },
    {
      "cell_type": "code",
      "execution_count": 9,
      "id": "5c568ab6-bb33-48d3-9b02-3089173474a6",
      "metadata": {
        "colab": {
          "base_uri": "https://localhost:8080/"
        },
        "id": "5c568ab6-bb33-48d3-9b02-3089173474a6",
        "outputId": "e9ee97d4-e8d9-4a9e-f6d5-c7941770d324"
      },
      "outputs": [
        {
          "output_type": "stream",
          "name": "stdout",
          "text": [
            "Found existing installation: keras 3.6.0\n",
            "Uninstalling keras-3.6.0:\n",
            "  Would remove:\n",
            "    /usr/local/lib/python3.10/dist-packages/keras-3.6.0.dist-info/*\n",
            "    /usr/local/lib/python3.10/dist-packages/keras/*\n",
            "Proceed (Y/n)? Y\n",
            "  Successfully uninstalled keras-3.6.0\n",
            "Found existing installation: ml-dtypes 0.4.1\n",
            "Uninstalling ml-dtypes-0.4.1:\n",
            "  Would remove:\n",
            "    /usr/local/lib/python3.10/dist-packages/ml_dtypes-0.4.1.dist-info/*\n",
            "    /usr/local/lib/python3.10/dist-packages/ml_dtypes/*\n",
            "Proceed (Y/n)? Y\n",
            "  Successfully uninstalled ml-dtypes-0.4.1\n",
            "Found existing installation: tensorboard 2.17.1\n",
            "Uninstalling tensorboard-2.17.1:\n",
            "  Would remove:\n",
            "    /usr/local/bin/tensorboard\n",
            "    /usr/local/lib/python3.10/dist-packages/tensorboard-2.17.1.dist-info/*\n",
            "    /usr/local/lib/python3.10/dist-packages/tensorboard/*\n",
            "Proceed (Y/n)? Y\n",
            "  Successfully uninstalled tensorboard-2.17.1\n"
          ]
        }
      ],
      "source": [
        "pip uninstall keras ml-dtypes tensorboard"
      ]
    },
    {
      "cell_type": "code",
      "source": [
        "pip install keras==2.14.0 ml-dtypes==0.2.0 tensorboard==2.14.0"
      ],
      "metadata": {
        "colab": {
          "base_uri": "https://localhost:8080/",
          "height": 807
        },
        "id": "vFw_zhSOKJJc",
        "outputId": "93d42861-77e0-4b40-e489-70a69fcf76d5"
      },
      "id": "vFw_zhSOKJJc",
      "execution_count": 10,
      "outputs": [
        {
          "output_type": "stream",
          "name": "stdout",
          "text": [
            "Collecting keras==2.14.0\n",
            "  Using cached keras-2.14.0-py3-none-any.whl.metadata (2.4 kB)\n",
            "Collecting ml-dtypes==0.2.0\n",
            "  Using cached ml_dtypes-0.2.0-cp310-cp310-manylinux_2_17_x86_64.manylinux2014_x86_64.whl.metadata (20 kB)\n",
            "Collecting tensorboard==2.14.0\n",
            "  Downloading tensorboard-2.14.0-py3-none-any.whl.metadata (1.8 kB)\n",
            "Requirement already satisfied: numpy>1.20 in /usr/local/lib/python3.10/dist-packages (from ml-dtypes==0.2.0) (1.26.4)\n",
            "Requirement already satisfied: absl-py>=0.4 in /usr/local/lib/python3.10/dist-packages (from tensorboard==2.14.0) (1.4.0)\n",
            "Requirement already satisfied: grpcio>=1.48.2 in /usr/local/lib/python3.10/dist-packages (from tensorboard==2.14.0) (1.64.1)\n",
            "Requirement already satisfied: google-auth<3,>=1.6.3 in /usr/local/lib/python3.10/dist-packages (from tensorboard==2.14.0) (2.27.0)\n",
            "Requirement already satisfied: google-auth-oauthlib<1.1,>=0.5 in /usr/local/lib/python3.10/dist-packages (from tensorboard==2.14.0) (1.0.0)\n",
            "Requirement already satisfied: markdown>=2.6.8 in /usr/local/lib/python3.10/dist-packages (from tensorboard==2.14.0) (3.7)\n",
            "Requirement already satisfied: protobuf>=3.19.6 in /usr/local/lib/python3.10/dist-packages (from tensorboard==2.14.0) (3.20.3)\n",
            "Requirement already satisfied: requests<3,>=2.21.0 in /usr/local/lib/python3.10/dist-packages (from tensorboard==2.14.0) (2.32.3)\n",
            "Requirement already satisfied: setuptools>=41.0.0 in /usr/local/lib/python3.10/dist-packages (from tensorboard==2.14.0) (71.0.4)\n",
            "Requirement already satisfied: tensorboard-data-server<0.8.0,>=0.7.0 in /usr/local/lib/python3.10/dist-packages (from tensorboard==2.14.0) (0.7.2)\n",
            "Requirement already satisfied: werkzeug>=1.0.1 in /usr/local/lib/python3.10/dist-packages (from tensorboard==2.14.0) (3.0.4)\n",
            "Requirement already satisfied: wheel>=0.26 in /usr/local/lib/python3.10/dist-packages (from tensorboard==2.14.0) (0.44.0)\n",
            "Requirement already satisfied: cachetools<6.0,>=2.0.0 in /usr/local/lib/python3.10/dist-packages (from google-auth<3,>=1.6.3->tensorboard==2.14.0) (5.5.0)\n",
            "Requirement already satisfied: pyasn1-modules>=0.2.1 in /usr/local/lib/python3.10/dist-packages (from google-auth<3,>=1.6.3->tensorboard==2.14.0) (0.4.1)\n",
            "Requirement already satisfied: rsa<5,>=3.1.4 in /usr/local/lib/python3.10/dist-packages (from google-auth<3,>=1.6.3->tensorboard==2.14.0) (4.9)\n",
            "Requirement already satisfied: requests-oauthlib>=0.7.0 in /usr/local/lib/python3.10/dist-packages (from google-auth-oauthlib<1.1,>=0.5->tensorboard==2.14.0) (1.3.1)\n",
            "Requirement already satisfied: charset-normalizer<4,>=2 in /usr/local/lib/python3.10/dist-packages (from requests<3,>=2.21.0->tensorboard==2.14.0) (3.3.2)\n",
            "Requirement already satisfied: idna<4,>=2.5 in /usr/local/lib/python3.10/dist-packages (from requests<3,>=2.21.0->tensorboard==2.14.0) (3.10)\n",
            "Requirement already satisfied: urllib3<3,>=1.21.1 in /usr/local/lib/python3.10/dist-packages (from requests<3,>=2.21.0->tensorboard==2.14.0) (2.2.3)\n",
            "Requirement already satisfied: certifi>=2017.4.17 in /usr/local/lib/python3.10/dist-packages (from requests<3,>=2.21.0->tensorboard==2.14.0) (2024.8.30)\n",
            "Requirement already satisfied: MarkupSafe>=2.1.1 in /usr/local/lib/python3.10/dist-packages (from werkzeug>=1.0.1->tensorboard==2.14.0) (2.1.5)\n",
            "Requirement already satisfied: pyasn1<0.7.0,>=0.4.6 in /usr/local/lib/python3.10/dist-packages (from pyasn1-modules>=0.2.1->google-auth<3,>=1.6.3->tensorboard==2.14.0) (0.6.1)\n",
            "Requirement already satisfied: oauthlib>=3.0.0 in /usr/local/lib/python3.10/dist-packages (from requests-oauthlib>=0.7.0->google-auth-oauthlib<1.1,>=0.5->tensorboard==2.14.0) (3.2.2)\n",
            "Using cached keras-2.14.0-py3-none-any.whl (1.7 MB)\n",
            "Using cached ml_dtypes-0.2.0-cp310-cp310-manylinux_2_17_x86_64.manylinux2014_x86_64.whl (1.0 MB)\n",
            "Downloading tensorboard-2.14.0-py3-none-any.whl (5.5 MB)\n",
            "\u001b[2K   \u001b[90m━━━━━━━━━━━━━━━━━━━━━━━━━━━━━━━━━━━━━━━━\u001b[0m \u001b[32m5.5/5.5 MB\u001b[0m \u001b[31m19.7 MB/s\u001b[0m eta \u001b[36m0:00:00\u001b[0m\n",
            "\u001b[?25hInstalling collected packages: ml-dtypes, keras, tensorboard\n",
            "\u001b[31mERROR: pip's dependency resolver does not currently take into account all the packages that are installed. This behaviour is the source of the following dependency conflicts.\n",
            "tensorflow 2.17.0 requires keras>=3.2.0, but you have keras 2.14.0 which is incompatible.\n",
            "tensorflow 2.17.0 requires ml-dtypes<0.5.0,>=0.3.1, but you have ml-dtypes 0.2.0 which is incompatible.\n",
            "tensorflow 2.17.0 requires tensorboard<2.18,>=2.17, but you have tensorboard 2.14.0 which is incompatible.\n",
            "tensorstore 0.1.66 requires ml-dtypes>=0.3.1, but you have ml-dtypes 0.2.0 which is incompatible.\u001b[0m\u001b[31m\n",
            "\u001b[0mSuccessfully installed keras-2.14.0 ml-dtypes-0.2.0 tensorboard-2.14.0\n"
          ]
        },
        {
          "output_type": "display_data",
          "data": {
            "application/vnd.colab-display-data+json": {
              "pip_warning": {
                "packages": [
                  "ml_dtypes"
                ]
              },
              "id": "61f37ebd41ac4d80bb76f4e7dd103f57"
            }
          },
          "metadata": {}
        }
      ]
    },
    {
      "cell_type": "code",
      "execution_count": 1,
      "id": "67dda8f9-44ee-4061-941f-2c45c1ebd152",
      "metadata": {
        "id": "67dda8f9-44ee-4061-941f-2c45c1ebd152"
      },
      "outputs": [],
      "source": [
        "import tensorflow as tf\n",
        "import pandas as pd\n",
        "from sklearn.model_selection import train_test_split\n",
        "from sklearn.preprocessing import StandardScaler\n",
        "from sklearn.metrics import r2_score"
      ]
    },
    {
      "cell_type": "code",
      "source": [
        "from google.colab import files\n",
        "uploaded = files.upload()"
      ],
      "metadata": {
        "colab": {
          "base_uri": "https://localhost:8080/",
          "height": 73
        },
        "id": "ThPX1L9ILcJR",
        "outputId": "96a0da36-af5e-4e59-f55b-05f44bc13531"
      },
      "id": "ThPX1L9ILcJR",
      "execution_count": 2,
      "outputs": [
        {
          "output_type": "display_data",
          "data": {
            "text/plain": [
              "<IPython.core.display.HTML object>"
            ],
            "text/html": [
              "\n",
              "     <input type=\"file\" id=\"files-5c4d77bc-6fe8-4519-a427-da2b722a30fd\" name=\"files[]\" multiple disabled\n",
              "        style=\"border:none\" />\n",
              "     <output id=\"result-5c4d77bc-6fe8-4519-a427-da2b722a30fd\">\n",
              "      Upload widget is only available when the cell has been executed in the\n",
              "      current browser session. Please rerun this cell to enable.\n",
              "      </output>\n",
              "      <script>// Copyright 2017 Google LLC\n",
              "//\n",
              "// Licensed under the Apache License, Version 2.0 (the \"License\");\n",
              "// you may not use this file except in compliance with the License.\n",
              "// You may obtain a copy of the License at\n",
              "//\n",
              "//      http://www.apache.org/licenses/LICENSE-2.0\n",
              "//\n",
              "// Unless required by applicable law or agreed to in writing, software\n",
              "// distributed under the License is distributed on an \"AS IS\" BASIS,\n",
              "// WITHOUT WARRANTIES OR CONDITIONS OF ANY KIND, either express or implied.\n",
              "// See the License for the specific language governing permissions and\n",
              "// limitations under the License.\n",
              "\n",
              "/**\n",
              " * @fileoverview Helpers for google.colab Python module.\n",
              " */\n",
              "(function(scope) {\n",
              "function span(text, styleAttributes = {}) {\n",
              "  const element = document.createElement('span');\n",
              "  element.textContent = text;\n",
              "  for (const key of Object.keys(styleAttributes)) {\n",
              "    element.style[key] = styleAttributes[key];\n",
              "  }\n",
              "  return element;\n",
              "}\n",
              "\n",
              "// Max number of bytes which will be uploaded at a time.\n",
              "const MAX_PAYLOAD_SIZE = 100 * 1024;\n",
              "\n",
              "function _uploadFiles(inputId, outputId) {\n",
              "  const steps = uploadFilesStep(inputId, outputId);\n",
              "  const outputElement = document.getElementById(outputId);\n",
              "  // Cache steps on the outputElement to make it available for the next call\n",
              "  // to uploadFilesContinue from Python.\n",
              "  outputElement.steps = steps;\n",
              "\n",
              "  return _uploadFilesContinue(outputId);\n",
              "}\n",
              "\n",
              "// This is roughly an async generator (not supported in the browser yet),\n",
              "// where there are multiple asynchronous steps and the Python side is going\n",
              "// to poll for completion of each step.\n",
              "// This uses a Promise to block the python side on completion of each step,\n",
              "// then passes the result of the previous step as the input to the next step.\n",
              "function _uploadFilesContinue(outputId) {\n",
              "  const outputElement = document.getElementById(outputId);\n",
              "  const steps = outputElement.steps;\n",
              "\n",
              "  const next = steps.next(outputElement.lastPromiseValue);\n",
              "  return Promise.resolve(next.value.promise).then((value) => {\n",
              "    // Cache the last promise value to make it available to the next\n",
              "    // step of the generator.\n",
              "    outputElement.lastPromiseValue = value;\n",
              "    return next.value.response;\n",
              "  });\n",
              "}\n",
              "\n",
              "/**\n",
              " * Generator function which is called between each async step of the upload\n",
              " * process.\n",
              " * @param {string} inputId Element ID of the input file picker element.\n",
              " * @param {string} outputId Element ID of the output display.\n",
              " * @return {!Iterable<!Object>} Iterable of next steps.\n",
              " */\n",
              "function* uploadFilesStep(inputId, outputId) {\n",
              "  const inputElement = document.getElementById(inputId);\n",
              "  inputElement.disabled = false;\n",
              "\n",
              "  const outputElement = document.getElementById(outputId);\n",
              "  outputElement.innerHTML = '';\n",
              "\n",
              "  const pickedPromise = new Promise((resolve) => {\n",
              "    inputElement.addEventListener('change', (e) => {\n",
              "      resolve(e.target.files);\n",
              "    });\n",
              "  });\n",
              "\n",
              "  const cancel = document.createElement('button');\n",
              "  inputElement.parentElement.appendChild(cancel);\n",
              "  cancel.textContent = 'Cancel upload';\n",
              "  const cancelPromise = new Promise((resolve) => {\n",
              "    cancel.onclick = () => {\n",
              "      resolve(null);\n",
              "    };\n",
              "  });\n",
              "\n",
              "  // Wait for the user to pick the files.\n",
              "  const files = yield {\n",
              "    promise: Promise.race([pickedPromise, cancelPromise]),\n",
              "    response: {\n",
              "      action: 'starting',\n",
              "    }\n",
              "  };\n",
              "\n",
              "  cancel.remove();\n",
              "\n",
              "  // Disable the input element since further picks are not allowed.\n",
              "  inputElement.disabled = true;\n",
              "\n",
              "  if (!files) {\n",
              "    return {\n",
              "      response: {\n",
              "        action: 'complete',\n",
              "      }\n",
              "    };\n",
              "  }\n",
              "\n",
              "  for (const file of files) {\n",
              "    const li = document.createElement('li');\n",
              "    li.append(span(file.name, {fontWeight: 'bold'}));\n",
              "    li.append(span(\n",
              "        `(${file.type || 'n/a'}) - ${file.size} bytes, ` +\n",
              "        `last modified: ${\n",
              "            file.lastModifiedDate ? file.lastModifiedDate.toLocaleDateString() :\n",
              "                                    'n/a'} - `));\n",
              "    const percent = span('0% done');\n",
              "    li.appendChild(percent);\n",
              "\n",
              "    outputElement.appendChild(li);\n",
              "\n",
              "    const fileDataPromise = new Promise((resolve) => {\n",
              "      const reader = new FileReader();\n",
              "      reader.onload = (e) => {\n",
              "        resolve(e.target.result);\n",
              "      };\n",
              "      reader.readAsArrayBuffer(file);\n",
              "    });\n",
              "    // Wait for the data to be ready.\n",
              "    let fileData = yield {\n",
              "      promise: fileDataPromise,\n",
              "      response: {\n",
              "        action: 'continue',\n",
              "      }\n",
              "    };\n",
              "\n",
              "    // Use a chunked sending to avoid message size limits. See b/62115660.\n",
              "    let position = 0;\n",
              "    do {\n",
              "      const length = Math.min(fileData.byteLength - position, MAX_PAYLOAD_SIZE);\n",
              "      const chunk = new Uint8Array(fileData, position, length);\n",
              "      position += length;\n",
              "\n",
              "      const base64 = btoa(String.fromCharCode.apply(null, chunk));\n",
              "      yield {\n",
              "        response: {\n",
              "          action: 'append',\n",
              "          file: file.name,\n",
              "          data: base64,\n",
              "        },\n",
              "      };\n",
              "\n",
              "      let percentDone = fileData.byteLength === 0 ?\n",
              "          100 :\n",
              "          Math.round((position / fileData.byteLength) * 100);\n",
              "      percent.textContent = `${percentDone}% done`;\n",
              "\n",
              "    } while (position < fileData.byteLength);\n",
              "  }\n",
              "\n",
              "  // All done.\n",
              "  yield {\n",
              "    response: {\n",
              "      action: 'complete',\n",
              "    }\n",
              "  };\n",
              "}\n",
              "\n",
              "scope.google = scope.google || {};\n",
              "scope.google.colab = scope.google.colab || {};\n",
              "scope.google.colab._files = {\n",
              "  _uploadFiles,\n",
              "  _uploadFilesContinue,\n",
              "};\n",
              "})(self);\n",
              "</script> "
            ]
          },
          "metadata": {}
        },
        {
          "output_type": "stream",
          "name": "stdout",
          "text": [
            "Saving Cleanest_Cities_India.csv to Cleanest_Cities_India.csv\n"
          ]
        }
      ]
    },
    {
      "cell_type": "code",
      "execution_count": 4,
      "id": "e891959c-ea1f-4914-aed1-8824666b1239",
      "metadata": {
        "id": "e891959c-ea1f-4914-aed1-8824666b1239"
      },
      "outputs": [],
      "source": [
        "data = pd.read_csv(\"Cleanest_Cities_India.csv\")\n",
        "\n"
      ]
    },
    {
      "cell_type": "code",
      "execution_count": 5,
      "id": "dc8ec0aa-6826-4fee-9ba3-f1715ed26847",
      "metadata": {
        "id": "dc8ec0aa-6826-4fee-9ba3-f1715ed26847"
      },
      "outputs": [],
      "source": [
        "X = data[['2016_Score', '2017_Score', '2018_Score', '2019_Score_5000', '2020_Score_Max6000', '2022_Score_Max7500', '2023_Score_Max10000']]\n",
        "y = data['2024_Score_Predicted'] = data['2023_Score_Max10000'] + (data['2023_Score_Max10000'] - data['2016_Score']) / 7"
      ]
    },
    {
      "cell_type": "code",
      "execution_count": 6,
      "id": "92f74b53-0832-44a7-9eb8-b3e52edab4ce",
      "metadata": {
        "id": "92f74b53-0832-44a7-9eb8-b3e52edab4ce"
      },
      "outputs": [],
      "source": [
        "X_train, X_test, y_train, y_test = train_test_split(X, y, test_size=0.2, random_state=42)\n"
      ]
    },
    {
      "cell_type": "code",
      "execution_count": 7,
      "id": "ed89f516-9ff5-4644-a39f-5df5b229551d",
      "metadata": {
        "id": "ed89f516-9ff5-4644-a39f-5df5b229551d"
      },
      "outputs": [],
      "source": [
        "scaler = StandardScaler()\n",
        "X_train_scaled = scaler.fit_transform(X_train)\n",
        "X_test_scaled = scaler.transform(X_test)"
      ]
    },
    {
      "cell_type": "code",
      "execution_count": 8,
      "id": "0d8188f8-8240-4d2a-832f-4ce1301c7417",
      "metadata": {
        "id": "0d8188f8-8240-4d2a-832f-4ce1301c7417"
      },
      "outputs": [],
      "source": [
        "model_oneDNN = tf.keras.Sequential([\n",
        "    tf.keras.layers.InputLayer(input_shape=(X_train_scaled.shape[1],)),\n",
        "    tf.keras.layers.Dense(256, activation='relu'),  # Increase neurons\n",
        "    tf.keras.layers.Dense(128, activation='relu'),\n",
        "    tf.keras.layers.Dense(64, activation='relu'),\n",
        "    tf.keras.layers.Dense(1)  # Output layer\n",
        "])"
      ]
    },
    {
      "cell_type": "code",
      "execution_count": 9,
      "id": "7dbf9502-1467-40b5-b971-87ba38b76150",
      "metadata": {
        "id": "7dbf9502-1467-40b5-b971-87ba38b76150"
      },
      "outputs": [],
      "source": [
        "# Compiling the model with a custom learning rate\n",
        "optimizer = tf.keras.optimizers.Adam(learning_rate=0.001)  # Try lower learning rates\n",
        "model_oneDNN.compile(optimizer=optimizer, loss='mean_squared_error',metrics=['mae'])\n"
      ]
    },
    {
      "cell_type": "code",
      "execution_count": 10,
      "id": "f98b7ea9-f10d-46be-a991-1a9a80125b78",
      "metadata": {
        "id": "f98b7ea9-f10d-46be-a991-1a9a80125b78"
      },
      "outputs": [],
      "source": [
        "early_stopping = tf.keras.callbacks.EarlyStopping(monitor='val_loss', patience=10, restore_best_weights=True)"
      ]
    },
    {
      "cell_type": "code",
      "execution_count": 11,
      "id": "b6f79d07-0180-44ed-8ccf-83c82a47d00b",
      "metadata": {
        "colab": {
          "base_uri": "https://localhost:8080/"
        },
        "id": "b6f79d07-0180-44ed-8ccf-83c82a47d00b",
        "outputId": "6417bcd0-fce9-48ab-d99b-00b2e67507b9"
      },
      "outputs": [
        {
          "output_type": "stream",
          "name": "stdout",
          "text": [
            "Epoch 1/100\n",
            "14/14 [==============================] - 3s 80ms/step - loss: 4049656.5000 - mae: 534.7548 - val_loss: 6373551.5000 - val_mae: 736.2138\n",
            "Epoch 2/100\n",
            "14/14 [==============================] - 1s 44ms/step - loss: 4044711.2500 - mae: 534.7071 - val_loss: 6360199.0000 - val_mae: 736.0240\n",
            "Epoch 3/100\n",
            "14/14 [==============================] - 0s 31ms/step - loss: 4027580.5000 - mae: 534.5297 - val_loss: 6317925.0000 - val_mae: 735.2930\n",
            "Epoch 4/100\n",
            "14/14 [==============================] - 1s 38ms/step - loss: 3987652.7500 - mae: 534.0798 - val_loss: 6214536.0000 - val_mae: 733.2116\n",
            "Epoch 5/100\n",
            "14/14 [==============================] - 1s 37ms/step - loss: 3881434.2500 - mae: 532.3278 - val_loss: 5974492.5000 - val_mae: 727.6113\n",
            "Epoch 6/100\n",
            "14/14 [==============================] - 0s 36ms/step - loss: 3670370.7500 - mae: 530.5615 - val_loss: 5449040.5000 - val_mae: 713.1802\n",
            "Epoch 7/100\n",
            "14/14 [==============================] - 0s 33ms/step - loss: 3225449.7500 - mae: 518.6982 - val_loss: 4576246.5000 - val_mae: 682.5180\n",
            "Epoch 8/100\n",
            "14/14 [==============================] - 0s 28ms/step - loss: 2514918.5000 - mae: 487.3008 - val_loss: 3410932.5000 - val_mae: 627.1445\n",
            "Epoch 9/100\n",
            "14/14 [==============================] - 0s 26ms/step - loss: 1702901.5000 - mae: 439.5849 - val_loss: 1985763.3750 - val_mae: 530.4740\n",
            "Epoch 10/100\n",
            "14/14 [==============================] - 0s 26ms/step - loss: 938250.0000 - mae: 369.2679 - val_loss: 902925.0000 - val_mae: 394.2935\n",
            "Epoch 11/100\n",
            "14/14 [==============================] - 0s 31ms/step - loss: 426343.3750 - mae: 274.4278 - val_loss: 479423.5625 - val_mae: 277.3839\n",
            "Epoch 12/100\n",
            "14/14 [==============================] - 0s 27ms/step - loss: 278629.6562 - mae: 237.6422 - val_loss: 382335.6875 - val_mae: 278.1797\n",
            "Epoch 13/100\n",
            "14/14 [==============================] - 0s 24ms/step - loss: 180342.8906 - mae: 195.3298 - val_loss: 294692.6875 - val_mae: 208.5903\n",
            "Epoch 14/100\n",
            "14/14 [==============================] - 0s 14ms/step - loss: 137623.2188 - mae: 178.6101 - val_loss: 259280.6094 - val_mae: 196.9244\n",
            "Epoch 15/100\n",
            "14/14 [==============================] - 0s 27ms/step - loss: 102046.2891 - mae: 135.3539 - val_loss: 228590.9531 - val_mae: 160.9191\n",
            "Epoch 16/100\n",
            "14/14 [==============================] - 0s 30ms/step - loss: 77839.0625 - mae: 106.6941 - val_loss: 204023.6250 - val_mae: 133.8796\n",
            "Epoch 17/100\n",
            "14/14 [==============================] - 0s 15ms/step - loss: 64436.1406 - mae: 98.6775 - val_loss: 190550.8594 - val_mae: 136.4892\n",
            "Epoch 18/100\n",
            "14/14 [==============================] - 0s 18ms/step - loss: 53115.7500 - mae: 87.0514 - val_loss: 181649.7500 - val_mae: 129.3992\n",
            "Epoch 19/100\n",
            "14/14 [==============================] - 0s 18ms/step - loss: 42980.7305 - mae: 79.8892 - val_loss: 166857.4219 - val_mae: 120.4241\n",
            "Epoch 20/100\n",
            "14/14 [==============================] - 0s 21ms/step - loss: 39433.4727 - mae: 75.3799 - val_loss: 164925.0469 - val_mae: 125.7882\n",
            "Epoch 21/100\n",
            "14/14 [==============================] - 0s 18ms/step - loss: 33513.1758 - mae: 77.4107 - val_loss: 152162.0000 - val_mae: 110.3626\n",
            "Epoch 22/100\n",
            "14/14 [==============================] - 0s 19ms/step - loss: 29604.1855 - mae: 68.3010 - val_loss: 151953.0469 - val_mae: 114.7018\n",
            "Epoch 23/100\n",
            "14/14 [==============================] - 0s 16ms/step - loss: 27198.0566 - mae: 64.0860 - val_loss: 138249.2344 - val_mae: 97.6157\n",
            "Epoch 24/100\n",
            "14/14 [==============================] - 0s 25ms/step - loss: 23005.8184 - mae: 59.2668 - val_loss: 135665.7188 - val_mae: 91.0540\n",
            "Epoch 25/100\n",
            "14/14 [==============================] - 0s 16ms/step - loss: 19048.4570 - mae: 52.6537 - val_loss: 129397.2422 - val_mae: 82.5756\n",
            "Epoch 26/100\n",
            "14/14 [==============================] - 0s 17ms/step - loss: 18385.4961 - mae: 50.8233 - val_loss: 125152.3984 - val_mae: 78.4223\n",
            "Epoch 27/100\n",
            "14/14 [==============================] - 0s 22ms/step - loss: 16529.7441 - mae: 46.8693 - val_loss: 122932.1719 - val_mae: 77.1465\n",
            "Epoch 28/100\n",
            "14/14 [==============================] - 0s 20ms/step - loss: 14493.6289 - mae: 42.1255 - val_loss: 117726.8516 - val_mae: 70.0739\n",
            "Epoch 29/100\n",
            "14/14 [==============================] - 0s 12ms/step - loss: 13358.6016 - mae: 39.8935 - val_loss: 115852.8125 - val_mae: 65.7291\n",
            "Epoch 30/100\n",
            "14/14 [==============================] - 0s 12ms/step - loss: 12039.8486 - mae: 36.7847 - val_loss: 112508.1875 - val_mae: 62.7540\n",
            "Epoch 31/100\n",
            "14/14 [==============================] - 0s 20ms/step - loss: 10577.7832 - mae: 34.2526 - val_loss: 110231.7266 - val_mae: 59.5391\n",
            "Epoch 32/100\n",
            "14/14 [==============================] - 0s 23ms/step - loss: 9640.8223 - mae: 33.0359 - val_loss: 107858.2266 - val_mae: 57.3256\n",
            "Epoch 33/100\n",
            "14/14 [==============================] - 0s 16ms/step - loss: 8883.1787 - mae: 30.4479 - val_loss: 105750.7109 - val_mae: 56.3331\n",
            "Epoch 34/100\n",
            "14/14 [==============================] - 0s 19ms/step - loss: 8184.0459 - mae: 29.1964 - val_loss: 103092.1797 - val_mae: 53.5071\n",
            "Epoch 35/100\n",
            "14/14 [==============================] - 0s 23ms/step - loss: 7488.2832 - mae: 27.3851 - val_loss: 101671.9453 - val_mae: 52.8642\n",
            "Epoch 36/100\n",
            "14/14 [==============================] - 0s 12ms/step - loss: 7220.2832 - mae: 26.4069 - val_loss: 100187.1719 - val_mae: 50.3942\n",
            "Epoch 37/100\n",
            "14/14 [==============================] - 0s 18ms/step - loss: 6870.6128 - mae: 27.1893 - val_loss: 99306.9766 - val_mae: 55.8267\n",
            "Epoch 38/100\n",
            "14/14 [==============================] - 0s 15ms/step - loss: 5963.3340 - mae: 23.7828 - val_loss: 96650.9922 - val_mae: 47.5227\n",
            "Epoch 39/100\n",
            "14/14 [==============================] - 0s 23ms/step - loss: 5504.2700 - mae: 21.8012 - val_loss: 95674.0859 - val_mae: 48.1180\n",
            "Epoch 40/100\n",
            "14/14 [==============================] - 0s 18ms/step - loss: 5212.7065 - mae: 20.8684 - val_loss: 94289.6875 - val_mae: 48.7141\n",
            "Epoch 41/100\n",
            "14/14 [==============================] - 0s 24ms/step - loss: 4840.4570 - mae: 19.5941 - val_loss: 92457.4141 - val_mae: 45.7302\n",
            "Epoch 42/100\n",
            "14/14 [==============================] - 0s 23ms/step - loss: 4794.9707 - mae: 18.7759 - val_loss: 91218.6875 - val_mae: 44.9321\n",
            "Epoch 43/100\n",
            "14/14 [==============================] - 0s 33ms/step - loss: 4324.0005 - mae: 19.1156 - val_loss: 90670.6016 - val_mae: 47.2942\n",
            "Epoch 44/100\n",
            "14/14 [==============================] - 0s 29ms/step - loss: 3988.4409 - mae: 18.0725 - val_loss: 89164.8906 - val_mae: 42.5637\n",
            "Epoch 45/100\n",
            "14/14 [==============================] - 0s 28ms/step - loss: 3758.1294 - mae: 16.3318 - val_loss: 87841.6641 - val_mae: 41.4536\n",
            "Epoch 46/100\n",
            "14/14 [==============================] - 0s 30ms/step - loss: 3496.1470 - mae: 14.9418 - val_loss: 86948.9453 - val_mae: 41.8893\n",
            "Epoch 47/100\n",
            "14/14 [==============================] - 0s 27ms/step - loss: 3237.8062 - mae: 14.8101 - val_loss: 85956.8828 - val_mae: 41.4932\n",
            "Epoch 48/100\n",
            "14/14 [==============================] - 0s 22ms/step - loss: 2959.1423 - mae: 13.7623 - val_loss: 84896.9609 - val_mae: 40.1448\n",
            "Epoch 49/100\n",
            "14/14 [==============================] - 0s 33ms/step - loss: 2856.2959 - mae: 13.3077 - val_loss: 84177.8125 - val_mae: 40.1101\n",
            "Epoch 50/100\n",
            "14/14 [==============================] - 0s 30ms/step - loss: 2744.9888 - mae: 13.0273 - val_loss: 82903.3203 - val_mae: 40.0507\n",
            "Epoch 51/100\n",
            "14/14 [==============================] - 0s 30ms/step - loss: 2469.9841 - mae: 12.1247 - val_loss: 82533.9766 - val_mae: 41.7136\n",
            "Epoch 52/100\n",
            "14/14 [==============================] - 0s 31ms/step - loss: 2301.0801 - mae: 11.9249 - val_loss: 81155.5156 - val_mae: 39.4970\n",
            "Epoch 53/100\n",
            "14/14 [==============================] - 0s 26ms/step - loss: 2226.5532 - mae: 11.9346 - val_loss: 81008.9531 - val_mae: 42.1518\n",
            "Epoch 54/100\n",
            "14/14 [==============================] - 0s 17ms/step - loss: 2169.1182 - mae: 12.9271 - val_loss: 79878.3672 - val_mae: 39.4043\n",
            "Epoch 55/100\n",
            "14/14 [==============================] - 0s 15ms/step - loss: 1985.9960 - mae: 11.7317 - val_loss: 79382.1875 - val_mae: 40.2582\n",
            "Epoch 56/100\n",
            "14/14 [==============================] - 0s 20ms/step - loss: 2102.1484 - mae: 12.1200 - val_loss: 78410.8594 - val_mae: 39.7628\n",
            "Epoch 57/100\n",
            "14/14 [==============================] - 0s 22ms/step - loss: 2061.2231 - mae: 12.0469 - val_loss: 77704.8125 - val_mae: 40.0676\n",
            "Epoch 58/100\n",
            "14/14 [==============================] - 0s 16ms/step - loss: 1916.1191 - mae: 12.0449 - val_loss: 76888.4453 - val_mae: 40.2979\n",
            "Epoch 59/100\n",
            "14/14 [==============================] - 0s 16ms/step - loss: 1695.9868 - mae: 11.7191 - val_loss: 76780.4766 - val_mae: 38.9366\n",
            "Epoch 60/100\n",
            "14/14 [==============================] - 0s 20ms/step - loss: 1865.4252 - mae: 12.7872 - val_loss: 75932.9375 - val_mae: 41.7273\n",
            "Epoch 61/100\n",
            "14/14 [==============================] - 0s 15ms/step - loss: 1564.8843 - mae: 11.0310 - val_loss: 75988.3750 - val_mae: 43.3454\n",
            "Epoch 62/100\n",
            "14/14 [==============================] - 0s 16ms/step - loss: 1587.3281 - mae: 11.4829 - val_loss: 74462.0781 - val_mae: 39.0480\n",
            "Epoch 63/100\n",
            "14/14 [==============================] - 0s 11ms/step - loss: 1359.2057 - mae: 11.0243 - val_loss: 73908.5547 - val_mae: 39.8104\n",
            "Epoch 64/100\n",
            "14/14 [==============================] - 0s 21ms/step - loss: 1704.7767 - mae: 12.9724 - val_loss: 73141.8750 - val_mae: 37.7913\n",
            "Epoch 65/100\n",
            "14/14 [==============================] - 0s 13ms/step - loss: 1280.9307 - mae: 10.9738 - val_loss: 72592.0000 - val_mae: 41.7707\n",
            "Epoch 66/100\n",
            "14/14 [==============================] - 0s 17ms/step - loss: 1345.2321 - mae: 12.4505 - val_loss: 72598.7188 - val_mae: 39.4772\n",
            "Epoch 67/100\n",
            "14/14 [==============================] - 0s 18ms/step - loss: 1610.5710 - mae: 12.3388 - val_loss: 71999.9062 - val_mae: 38.1325\n",
            "Epoch 68/100\n",
            "14/14 [==============================] - 0s 20ms/step - loss: 1123.1763 - mae: 9.7069 - val_loss: 71631.4922 - val_mae: 38.5382\n",
            "Epoch 69/100\n",
            "14/14 [==============================] - 0s 19ms/step - loss: 998.3643 - mae: 9.4188 - val_loss: 70712.8281 - val_mae: 36.7529\n",
            "Epoch 70/100\n",
            "14/14 [==============================] - 0s 21ms/step - loss: 1003.0273 - mae: 9.7250 - val_loss: 70238.6094 - val_mae: 37.6672\n",
            "Epoch 71/100\n",
            "14/14 [==============================] - 0s 20ms/step - loss: 965.5847 - mae: 9.4438 - val_loss: 69744.0078 - val_mae: 37.2848\n",
            "Epoch 72/100\n",
            "14/14 [==============================] - 0s 17ms/step - loss: 954.9057 - mae: 9.9848 - val_loss: 70309.9766 - val_mae: 40.2731\n",
            "Epoch 73/100\n",
            "14/14 [==============================] - 0s 18ms/step - loss: 996.3273 - mae: 11.0161 - val_loss: 69608.7969 - val_mae: 37.6966\n",
            "Epoch 74/100\n",
            "14/14 [==============================] - 0s 11ms/step - loss: 856.8421 - mae: 9.9928 - val_loss: 68668.1328 - val_mae: 36.4874\n",
            "Epoch 75/100\n",
            "14/14 [==============================] - 0s 15ms/step - loss: 914.8224 - mae: 9.4374 - val_loss: 68442.1562 - val_mae: 37.3321\n",
            "Epoch 76/100\n",
            "14/14 [==============================] - 0s 17ms/step - loss: 857.6355 - mae: 10.0781 - val_loss: 67965.6953 - val_mae: 36.7990\n",
            "Epoch 77/100\n",
            "14/14 [==============================] - 0s 18ms/step - loss: 728.5442 - mae: 8.4374 - val_loss: 67650.6797 - val_mae: 37.6513\n",
            "Epoch 78/100\n",
            "14/14 [==============================] - 0s 20ms/step - loss: 915.6804 - mae: 10.2490 - val_loss: 67279.6797 - val_mae: 36.0477\n",
            "Epoch 79/100\n",
            "14/14 [==============================] - 0s 15ms/step - loss: 840.6766 - mae: 9.1207 - val_loss: 67141.4766 - val_mae: 36.6686\n",
            "Epoch 80/100\n",
            "14/14 [==============================] - 0s 19ms/step - loss: 1032.2557 - mae: 11.4307 - val_loss: 66418.6797 - val_mae: 36.4824\n",
            "Epoch 81/100\n",
            "14/14 [==============================] - 0s 13ms/step - loss: 630.9354 - mae: 9.2111 - val_loss: 66496.4609 - val_mae: 37.2980\n",
            "Epoch 82/100\n",
            "14/14 [==============================] - 0s 19ms/step - loss: 716.7057 - mae: 9.6869 - val_loss: 66038.4609 - val_mae: 35.7022\n",
            "Epoch 83/100\n",
            "14/14 [==============================] - 0s 15ms/step - loss: 655.0075 - mae: 9.4157 - val_loss: 65754.4297 - val_mae: 35.7222\n",
            "Epoch 84/100\n",
            "14/14 [==============================] - 0s 20ms/step - loss: 731.9740 - mae: 9.0965 - val_loss: 65562.0703 - val_mae: 36.2106\n",
            "Epoch 85/100\n",
            "14/14 [==============================] - 0s 14ms/step - loss: 596.3452 - mae: 8.6974 - val_loss: 65004.9883 - val_mae: 34.4761\n",
            "Epoch 86/100\n",
            "14/14 [==============================] - 0s 21ms/step - loss: 711.3684 - mae: 9.3876 - val_loss: 65034.2422 - val_mae: 37.9016\n",
            "Epoch 87/100\n",
            "14/14 [==============================] - 0s 18ms/step - loss: 595.9158 - mae: 9.8741 - val_loss: 65488.3008 - val_mae: 40.1685\n",
            "Epoch 88/100\n",
            "14/14 [==============================] - 0s 21ms/step - loss: 684.2571 - mae: 9.9836 - val_loss: 65246.2422 - val_mae: 39.7444\n",
            "Epoch 89/100\n",
            "14/14 [==============================] - 0s 18ms/step - loss: 686.9039 - mae: 9.4840 - val_loss: 63961.0352 - val_mae: 34.9522\n",
            "Epoch 90/100\n",
            "14/14 [==============================] - 0s 19ms/step - loss: 501.3950 - mae: 7.7284 - val_loss: 64020.1562 - val_mae: 34.6260\n",
            "Epoch 91/100\n",
            "14/14 [==============================] - 0s 17ms/step - loss: 500.3069 - mae: 7.8150 - val_loss: 63685.0898 - val_mae: 34.2374\n",
            "Epoch 92/100\n",
            "14/14 [==============================] - 0s 18ms/step - loss: 503.6505 - mae: 8.4155 - val_loss: 63709.6016 - val_mae: 34.5204\n",
            "Epoch 93/100\n",
            "14/14 [==============================] - 0s 20ms/step - loss: 469.4561 - mae: 7.5094 - val_loss: 63352.7422 - val_mae: 34.8862\n",
            "Epoch 94/100\n",
            "14/14 [==============================] - 0s 29ms/step - loss: 533.8004 - mae: 8.3711 - val_loss: 63285.6133 - val_mae: 34.3579\n",
            "Epoch 95/100\n",
            "14/14 [==============================] - 0s 29ms/step - loss: 515.0449 - mae: 9.1302 - val_loss: 63266.1758 - val_mae: 37.7207\n",
            "Epoch 96/100\n",
            "14/14 [==============================] - 0s 25ms/step - loss: 1107.0995 - mae: 11.3835 - val_loss: 62903.1055 - val_mae: 38.0634\n",
            "Epoch 97/100\n",
            "14/14 [==============================] - 0s 27ms/step - loss: 844.8336 - mae: 13.3769 - val_loss: 63265.5391 - val_mae: 35.8307\n",
            "Epoch 98/100\n",
            "14/14 [==============================] - 0s 31ms/step - loss: 687.2327 - mae: 9.3945 - val_loss: 64077.8984 - val_mae: 41.9642\n",
            "Epoch 99/100\n",
            "14/14 [==============================] - 0s 30ms/step - loss: 1133.4583 - mae: 14.4231 - val_loss: 64596.7617 - val_mae: 49.9591\n",
            "Epoch 100/100\n",
            "14/14 [==============================] - 0s 31ms/step - loss: 1190.6788 - mae: 14.6278 - val_loss: 63515.1875 - val_mae: 39.6329\n"
          ]
        }
      ],
      "source": [
        "history = model_oneDNN.fit(X_train_scaled, y_train, epochs=100, validation_data=(X_test_scaled, y_test), callbacks=[early_stopping])"
      ]
    },
    {
      "cell_type": "code",
      "execution_count": 12,
      "id": "90289d9f-12e7-4b44-9963-92683c1f0f7b",
      "metadata": {
        "colab": {
          "base_uri": "https://localhost:8080/"
        },
        "id": "90289d9f-12e7-4b44-9963-92683c1f0f7b",
        "outputId": "894de55b-3eda-4020-8218-b1e32e4b3f82"
      },
      "outputs": [
        {
          "output_type": "stream",
          "name": "stdout",
          "text": [
            "4/4 [==============================] - 0s 5ms/step\n",
            "oneDNN R² score: 0.9891\n"
          ]
        }
      ],
      "source": [
        "y_pred_oneDNN = model_oneDNN.predict(X_test_scaled)\n",
        "r2_oneDNN = r2_score(y_test, y_pred_oneDNN)\n",
        "print(f\"oneDNN R² score: {r2_oneDNN:.4f}\")"
      ]
    },
    {
      "cell_type": "code",
      "execution_count": 13,
      "id": "2bcec594-45bd-4304-a4c7-44e6b4a533c5",
      "metadata": {
        "id": "2bcec594-45bd-4304-a4c7-44e6b4a533c5"
      },
      "outputs": [],
      "source": [
        "import matplotlib.pyplot as plt"
      ]
    },
    {
      "cell_type": "code",
      "execution_count": 14,
      "id": "b8434977-5220-4f0b-a994-e1f1f2c400c1",
      "metadata": {
        "colab": {
          "base_uri": "https://localhost:8080/",
          "height": 472
        },
        "id": "b8434977-5220-4f0b-a994-e1f1f2c400c1",
        "outputId": "bfcaa0bd-15b4-49a4-da8d-880cf2877e38"
      },
      "outputs": [
        {
          "output_type": "display_data",
          "data": {
            "text/plain": [
              "<Figure size 640x480 with 1 Axes>"
            ],
            "image/png": "[encoded data removed]"
          },
          "metadata": {}
        }
      ],
      "source": [
        "#Here is a graph for Training loss vs Validation loss\n",
        "plt.plot(history.history['loss'], label='Training Loss')\n",
        "plt.plot(history.history['val_loss'], label='Validation Loss')\n",
        "plt.title('Loss Curves')\n",
        "plt.xlabel('Epochs')\n",
        "plt.ylabel('Loss')\n",
        "plt.legend()\n",
        "plt.show()"
      ]
    }
  ],
  "metadata": {
    "kernelspec": {
      "display_name": "Python 3 (ipykernel)",
      "language": "python",
      "name": "python3"
    },
    "language_info": {
      "codemirror_mode": {
        "name": "ipython",
        "version": 3
      },
      "file_extension": ".py",
      "mimetype": "text/x-python",
      "name": "python",
      "nbconvert_exporter": "python",
      "pygments_lexer": "ipython3",
      "version": "3.12.4"
    },
    "colab": {
      "provenance": [],
      "include_colab_link": true
    }
  },
  "nbformat": 4,
  "nbformat_minor": 5
}